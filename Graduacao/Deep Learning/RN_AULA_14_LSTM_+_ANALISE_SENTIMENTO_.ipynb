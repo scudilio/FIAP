{
  "cells": [
    {
      "cell_type": "markdown",
      "metadata": {
        "id": "view-in-github",
        "colab_type": "text"
      },
      "source": [
        "<a href=\"https://colab.research.google.com/github/scudilio/FIAP/blob/main/RN_AULA_14_LSTM_%2B_ANALISE_SENTIMENTO_.ipynb\" target=\"_parent\"><img src=\"https://colab.research.google.com/assets/colab-badge.svg\" alt=\"Open In Colab\"/></a>"
      ]
    },
    {
      "cell_type": "markdown",
      "metadata": {
        "id": "u7vWGXCCBjUP"
      },
      "source": [
        "# AULA 11 - LSTM: ANÁLISE DE SENTIMENTO\n",
        "\n",
        "**Objetivo:**\n",
        "Treinar uma rede LSTM para realizar análise de sentimento em um conjunto de dados de reviews de filmes, classificando-os como positivos ou negativos.\n",
        "\n",
        "Passos:\n",
        "1. Carregar e pré-processar os dados de análise de sentimento.\n",
        "2. Criar a rede LSTM.\n",
        "3. Treinar o modelo.\n",
        "4. Avaliar a performance.\n"
      ]
    },
    {
      "cell_type": "markdown",
      "metadata": {
        "id": "kUFvuqCcDggj"
      },
      "source": [
        "##1. IMPORTANDO AS BIBLIOTECAS"
      ]
    },
    {
      "cell_type": "code",
      "execution_count": null,
      "metadata": {
        "id": "CuBY3zsOBipv"
      },
      "outputs": [],
      "source": [
        "import numpy as np\n",
        "from tensorflow.keras.models import Sequential\n",
        "from tensorflow.keras.layers import Embedding, LSTM, Dense, Dropout\n",
        "from tensorflow.keras.preprocessing.sequence import pad_sequences\n",
        "from tensorflow.keras.preprocessing.text import Tokenizer\n",
        "from tensorflow.keras.datasets import imdb\n",
        "from tensorflow.keras.utils import to_categorical\n"
      ]
    },
    {
      "cell_type": "markdown",
      "metadata": {
        "id": "esWu6Pr8DtQ8"
      },
      "source": [
        "## 2. Carregar e Pré-processar o Conjunto de Dados\n",
        "Vamos usar o conjunto de dados IMDB de reviews de filmes que já está incluído no Keras. Ele contém 25.000 reviews de filmes rotulados como positivos ou negativos."
      ]
    },
    {
      "cell_type": "code",
      "execution_count": null,
      "metadata": {
        "id": "PFe0y0fnDkBw"
      },
      "outputs": [],
      "source": [
        "# Carregar o dataset IMDB\n",
        "max_features = 10000  # Número máximo de palavras a considerar\n",
        "maxlen = 100  # Tamanho máximo da sequência (número de palavras)\n",
        "\n",
        "# Carregar os dados de treino e teste do dataset IMDB\n",
        "(x_train, y_train), (x_test, y_test) = imdb.load_data(num_words=max_features)\n",
        "\n",
        "# Padding das sequências para garantir que tenham o mesmo tamanho\n",
        "x_train = pad_sequences(x_train, maxlen=maxlen)\n",
        "x_test = pad_sequences(x_test, maxlen=maxlen)\n"
      ]
    },
    {
      "cell_type": "code",
      "execution_count": null,
      "metadata": {
        "colab": {
          "base_uri": "https://localhost:8080/"
        },
        "id": "SSLErCifFHyo",
        "outputId": "0f937ca1-8e91-4463-87cc-73f0db73287c"
      },
      "outputs": [
        {
          "output_type": "execute_result",
          "data": {
            "text/plain": [
              "array([[1415,   33,    6, ...,   19,  178,   32],\n",
              "       [ 163,   11, 3215, ...,   16,  145,   95],\n",
              "       [1301,    4, 1873, ...,    7,  129,  113],\n",
              "       ...,\n",
              "       [  11,    6, 4065, ...,    4, 3586,    2],\n",
              "       [ 100, 2198,    8, ...,   12,    9,   23],\n",
              "       [  78, 1099,   17, ...,  204,  131,    9]], dtype=int32)"
            ]
          },
          "metadata": {},
          "execution_count": 9
        }
      ],
      "source": [
        "x_train"
      ]
    },
    {
      "cell_type": "markdown",
      "metadata": {
        "id": "5vEb3zMkFTES"
      },
      "source": [
        "## 3. Criar o Modelo LSTM\n",
        "Agora, vamos criar um modelo sequencial com uma camada de Embedding, seguida de uma camada LSTM, e terminar com uma camada densa para a classificação binária (positivo ou negativo)."
      ]
    },
    {
      "cell_type": "code",
      "execution_count": null,
      "metadata": {
        "colab": {
          "base_uri": "https://localhost:8080/",
          "height": 323
        },
        "id": "Y0NTnIk5FJdP",
        "outputId": "6e5c974d-31ac-4bd9-a478-01eb16239ed3"
      },
      "outputs": [
        {
          "output_type": "display_data",
          "data": {
            "text/plain": [
              "\u001b[1mModel: \"sequential_1\"\u001b[0m\n"
            ],
            "text/html": [
              "<pre style=\"white-space:pre;overflow-x:auto;line-height:normal;font-family:Menlo,'DejaVu Sans Mono',consolas,'Courier New',monospace\"><span style=\"font-weight: bold\">Model: \"sequential_1\"</span>\n",
              "</pre>\n"
            ]
          },
          "metadata": {}
        },
        {
          "output_type": "display_data",
          "data": {
            "text/plain": [
              "┏━━━━━━━━━━━━━━━━━━━━━━━━━━━━━━━━━━━━━━┳━━━━━━━━━━━━━━━━━━━━━━━━━━━━━┳━━━━━━━━━━━━━━━━━┓\n",
              "┃\u001b[1m \u001b[0m\u001b[1mLayer (type)                        \u001b[0m\u001b[1m \u001b[0m┃\u001b[1m \u001b[0m\u001b[1mOutput Shape               \u001b[0m\u001b[1m \u001b[0m┃\u001b[1m \u001b[0m\u001b[1m        Param #\u001b[0m\u001b[1m \u001b[0m┃\n",
              "┡━━━━━━━━━━━━━━━━━━━━━━━━━━━━━━━━━━━━━━╇━━━━━━━━━━━━━━━━━━━━━━━━━━━━━╇━━━━━━━━━━━━━━━━━┩\n",
              "│ embedding_1 (\u001b[38;5;33mEmbedding\u001b[0m)              │ ?                           │     \u001b[38;5;34m0\u001b[0m (unbuilt) │\n",
              "├──────────────────────────────────────┼─────────────────────────────┼─────────────────┤\n",
              "│ lstm_3 (\u001b[38;5;33mLSTM\u001b[0m)                        │ ?                           │     \u001b[38;5;34m0\u001b[0m (unbuilt) │\n",
              "├──────────────────────────────────────┼─────────────────────────────┼─────────────────┤\n",
              "│ lstm_4 (\u001b[38;5;33mLSTM\u001b[0m)                        │ ?                           │     \u001b[38;5;34m0\u001b[0m (unbuilt) │\n",
              "├──────────────────────────────────────┼─────────────────────────────┼─────────────────┤\n",
              "│ lstm_5 (\u001b[38;5;33mLSTM\u001b[0m)                        │ ?                           │     \u001b[38;5;34m0\u001b[0m (unbuilt) │\n",
              "├──────────────────────────────────────┼─────────────────────────────┼─────────────────┤\n",
              "│ dense_1 (\u001b[38;5;33mDense\u001b[0m)                      │ ?                           │     \u001b[38;5;34m0\u001b[0m (unbuilt) │\n",
              "└──────────────────────────────────────┴─────────────────────────────┴─────────────────┘\n"
            ],
            "text/html": [
              "<pre style=\"white-space:pre;overflow-x:auto;line-height:normal;font-family:Menlo,'DejaVu Sans Mono',consolas,'Courier New',monospace\">┏━━━━━━━━━━━━━━━━━━━━━━━━━━━━━━━━━━━━━━┳━━━━━━━━━━━━━━━━━━━━━━━━━━━━━┳━━━━━━━━━━━━━━━━━┓\n",
              "┃<span style=\"font-weight: bold\"> Layer (type)                         </span>┃<span style=\"font-weight: bold\"> Output Shape                </span>┃<span style=\"font-weight: bold\">         Param # </span>┃\n",
              "┡━━━━━━━━━━━━━━━━━━━━━━━━━━━━━━━━━━━━━━╇━━━━━━━━━━━━━━━━━━━━━━━━━━━━━╇━━━━━━━━━━━━━━━━━┩\n",
              "│ embedding_1 (<span style=\"color: #0087ff; text-decoration-color: #0087ff\">Embedding</span>)              │ ?                           │     <span style=\"color: #00af00; text-decoration-color: #00af00\">0</span> (unbuilt) │\n",
              "├──────────────────────────────────────┼─────────────────────────────┼─────────────────┤\n",
              "│ lstm_3 (<span style=\"color: #0087ff; text-decoration-color: #0087ff\">LSTM</span>)                        │ ?                           │     <span style=\"color: #00af00; text-decoration-color: #00af00\">0</span> (unbuilt) │\n",
              "├──────────────────────────────────────┼─────────────────────────────┼─────────────────┤\n",
              "│ lstm_4 (<span style=\"color: #0087ff; text-decoration-color: #0087ff\">LSTM</span>)                        │ ?                           │     <span style=\"color: #00af00; text-decoration-color: #00af00\">0</span> (unbuilt) │\n",
              "├──────────────────────────────────────┼─────────────────────────────┼─────────────────┤\n",
              "│ lstm_5 (<span style=\"color: #0087ff; text-decoration-color: #0087ff\">LSTM</span>)                        │ ?                           │     <span style=\"color: #00af00; text-decoration-color: #00af00\">0</span> (unbuilt) │\n",
              "├──────────────────────────────────────┼─────────────────────────────┼─────────────────┤\n",
              "│ dense_1 (<span style=\"color: #0087ff; text-decoration-color: #0087ff\">Dense</span>)                      │ ?                           │     <span style=\"color: #00af00; text-decoration-color: #00af00\">0</span> (unbuilt) │\n",
              "└──────────────────────────────────────┴─────────────────────────────┴─────────────────┘\n",
              "</pre>\n"
            ]
          },
          "metadata": {}
        },
        {
          "output_type": "display_data",
          "data": {
            "text/plain": [
              "\u001b[1m Total params: \u001b[0m\u001b[38;5;34m0\u001b[0m (0.00 B)\n"
            ],
            "text/html": [
              "<pre style=\"white-space:pre;overflow-x:auto;line-height:normal;font-family:Menlo,'DejaVu Sans Mono',consolas,'Courier New',monospace\"><span style=\"font-weight: bold\"> Total params: </span><span style=\"color: #00af00; text-decoration-color: #00af00\">0</span> (0.00 B)\n",
              "</pre>\n"
            ]
          },
          "metadata": {}
        },
        {
          "output_type": "display_data",
          "data": {
            "text/plain": [
              "\u001b[1m Trainable params: \u001b[0m\u001b[38;5;34m0\u001b[0m (0.00 B)\n"
            ],
            "text/html": [
              "<pre style=\"white-space:pre;overflow-x:auto;line-height:normal;font-family:Menlo,'DejaVu Sans Mono',consolas,'Courier New',monospace\"><span style=\"font-weight: bold\"> Trainable params: </span><span style=\"color: #00af00; text-decoration-color: #00af00\">0</span> (0.00 B)\n",
              "</pre>\n"
            ]
          },
          "metadata": {}
        },
        {
          "output_type": "display_data",
          "data": {
            "text/plain": [
              "\u001b[1m Non-trainable params: \u001b[0m\u001b[38;5;34m0\u001b[0m (0.00 B)\n"
            ],
            "text/html": [
              "<pre style=\"white-space:pre;overflow-x:auto;line-height:normal;font-family:Menlo,'DejaVu Sans Mono',consolas,'Courier New',monospace\"><span style=\"font-weight: bold\"> Non-trainable params: </span><span style=\"color: #00af00; text-decoration-color: #00af00\">0</span> (0.00 B)\n",
              "</pre>\n"
            ]
          },
          "metadata": {}
        },
        {
          "output_type": "stream",
          "name": "stdout",
          "text": [
            "None\n"
          ]
        }
      ],
      "source": [
        "model = Sequential()\n",
        "model.add(Embedding(max_features, 128, input_length = maxlen))  # Embedding para vetorizar as palavras\n",
        "model.add(LSTM(128, return_sequences = True, dropout=0.2, recurrent_dropout=0.2))  # Primeira camada LSTM\n",
        "model.add(LSTM(128, return_sequences = True, dropout=0.2, recurrent_dropout=0.2))  # Segunda camada LSTM\n",
        "\n",
        "model.add(LSTM(64, dropout=0.2, recurrent_dropout=0.2))  # Terceira camada LSTM com menos unidades\n",
        "model.add(Dense(1, activation='sigmoid'))  # Camada final para a classificação binária\n",
        "\n",
        "# Compilando o modelo\n",
        "model.compile(loss='binary_crossentropy',\n",
        "              optimizer='adam',\n",
        "              metrics=['accuracy'])\n",
        "\n",
        "print(model.summary())\n"
      ]
    },
    {
      "cell_type": "markdown",
      "metadata": {
        "id": "Ha6btyPzHBmK"
      },
      "source": [
        "##Explicação do Código:\n",
        "* Embedding Layer: Converte as palavras em vetores de tamanho fixo. Cada palavra é mapeada para um vetor de 128 dimensões.\n",
        "* LSTM Layer: A camada LSTM processa sequências de palavras, permitindo que o modelo mantenha informações importantes ao longo da sequência.\n",
        "* Dense Layer: A camada densa final usa a função de ativação sigmoide para prever a probabilidade de uma review ser positiva ou negativa.\n",
        "* Binary Crossentropy: Como estamos realizando uma classificação binária, usamos a função de perda binary_crossentropy.\n",
        "* Adam Optimizer: Um algoritmo de otimização eficiente e amplamente utilizado.\n",
        "\n",
        "\n",
        "Conclusão:\n",
        "Este modelo básico de LSTM pode ser treinado para realizar análise de sentimentos em dados textuais. Ajustes adicionais podem incluir a adição de mais camadas LSTM, regulação com Dropout, e treinamento com mais épocas (epochs) para melhorar a precisão."
      ]
    },
    {
      "cell_type": "markdown",
      "metadata": {
        "id": "ME22o07uFj15"
      },
      "source": [
        "##4. Treinar o Modelo\n",
        "Agora que o modelo foi criado, podemos treiná-lo nos dados de treino."
      ]
    },
    {
      "cell_type": "code",
      "execution_count": null,
      "metadata": {
        "colab": {
          "base_uri": "https://localhost:8080/"
        },
        "id": "AKIWaO_aFaB6",
        "outputId": "f29210db-2f32-4253-ba95-58ed45a76700"
      },
      "outputs": [
        {
          "output_type": "stream",
          "name": "stdout",
          "text": [
            "Epoch 1/3\n",
            "782/782 - 454s - 581ms/step - accuracy: 0.7715 - loss: 0.4734 - val_accuracy: 0.8408 - val_loss: 0.3604\n",
            "Epoch 2/3\n",
            "782/782 - 493s - 630ms/step - accuracy: 0.8665 - loss: 0.3217 - val_accuracy: 0.8289 - val_loss: 0.3875\n",
            "Epoch 3/3\n",
            "782/782 - 487s - 623ms/step - accuracy: 0.8927 - loss: 0.2708 - val_accuracy: 0.8448 - val_loss: 0.3695\n"
          ]
        },
        {
          "output_type": "execute_result",
          "data": {
            "text/plain": [
              "<keras.src.callbacks.history.History at 0x7f772bddaa70>"
            ]
          },
          "metadata": {},
          "execution_count": 10
        }
      ],
      "source": [
        "batch_size = 32\n",
        "epochs = 3\n",
        "\n",
        "# Treinando o modelo\n",
        "model.fit(x_train, y_train, batch_size=batch_size, epochs=epochs, validation_data=(x_test, y_test), verbose=2)\n"
      ]
    },
    {
      "cell_type": "markdown",
      "metadata": {
        "id": "_2lb-ZHcGsAp"
      },
      "source": [
        "## 5. Avaliar o Modelo\n",
        "Após o treinamento, vamos avaliar a performance do modelo nos dados de teste."
      ]
    },
    {
      "cell_type": "code",
      "execution_count": null,
      "metadata": {
        "colab": {
          "background_save": true
        },
        "id": "dGgNS6orGlVR"
      },
      "outputs": [],
      "source": [
        "# Avaliação do modelo\n",
        "score, acc = model.evaluate(x_test, y_test, batch_size=batch_size, verbose=2)\n",
        "print('Test score:', score)\n",
        "print('Test accuracy:', acc)\n"
      ]
    },
    {
      "cell_type": "markdown",
      "metadata": {
        "id": "J7Mnuer7HjEn"
      },
      "source": [
        "## Analisando uma avaliacao e vendo sua previsao"
      ]
    },
    {
      "cell_type": "code",
      "execution_count": null,
      "metadata": {
        "colab": {
          "background_save": true
        },
        "id": "rNwcQSSpGyJH"
      },
      "outputs": [],
      "source": [
        "# Carregar o dicionário de palavras\n",
        "word_index = imdb.get_word_index()\n",
        "\n",
        "# Função para converter uma sequência numérica de volta para uma string de palavras\n",
        "def decode_review(sequence):\n",
        "    reverse_word_index = {value: key for (key, value) in word_index.items()}\n",
        "    # O índice 0, 1 e 2 são reservados para preenchimento, início da sequência, etc.\n",
        "    return ' '.join([reverse_word_index.get(i - 3, '?') for i in sequence])\n",
        "\n",
        "# Exibir uma avaliação específica (primeira no conjunto de teste, por exemplo)\n",
        "print(decode_review(x_test[0]))"
      ]
    },
    {
      "cell_type": "code",
      "execution_count": null,
      "metadata": {
        "colab": {
          "background_save": true
        },
        "id": "buJPeiSjHtA7"
      },
      "outputs": [],
      "source": [
        "# Prever o sentimento da primeira avaliação do conjunto de teste\n",
        "review_to_predict = x_test[0]\n",
        "\n",
        "# Fazer a previsão com o modelo treinado\n",
        "prediction = model.predict(np.array([review_to_predict]))\n",
        "\n",
        "# Exibir o resultado da previsão\n",
        "if prediction[0] > 0.5:\n",
        "    print(\"Positivo\")\n",
        "else:\n",
        "    print(\"Negativo\")\n"
      ]
    },
    {
      "cell_type": "code",
      "execution_count": null,
      "metadata": {
        "colab": {
          "background_save": true
        },
        "id": "GmD5FRQdNfft",
        "outputId": "53600979-4ba8-484c-d3c1-07c52f26a4f9"
      },
      "outputs": [
        {
          "data": {
            "text/plain": [
              "array([[0.12211445]], dtype=float32)"
            ]
          },
          "execution_count": 10,
          "metadata": {},
          "output_type": "execute_result"
        }
      ],
      "source": [
        "prediction"
      ]
    },
    {
      "cell_type": "markdown",
      "metadata": {
        "id": "meeWUvQBIBVE"
      },
      "source": [
        "## Analisando uma avaliação manual"
      ]
    },
    {
      "cell_type": "code",
      "execution_count": null,
      "metadata": {
        "colab": {
          "background_save": true
        },
        "id": "A8kfYkGbH6sa"
      },
      "outputs": [],
      "source": [
        "# Texto de exemplo para fazer a previsão\n",
        "new_review = \"This movie was fantastic! I loved the acting and the plot was very interesting.\"\n",
        "\n",
        "# Tokenizar e converter o texto para sequência numérica\n",
        "tokenizer = Tokenizer(num_words=max_features)\n",
        "tokenizer.fit_on_texts([new_review])\n",
        "sequence = tokenizer.texts_to_sequences([new_review])\n",
        "\n",
        "# Padronizar a sequência para ter o mesmo tamanho usado no treinamento\n",
        "sequence_padded = pad_sequences(sequence, maxlen=maxlen)\n",
        "\n",
        "# Fazer a previsão com o modelo treinado\n",
        "prediction = model.predict(sequence_padded)\n",
        "\n",
        "# Exibir o resultado da previsão\n",
        "if prediction[0] > 0.5:\n",
        "    print(\"Positivo\")\n",
        "else:\n",
        "    print(\"Negativo\")\n"
      ]
    },
    {
      "cell_type": "code",
      "execution_count": null,
      "metadata": {
        "colab": {
          "background_save": true
        },
        "id": "qNaqGNTmIG81",
        "outputId": "7018fa6d-fd51-4073-886d-a833e10dea45"
      },
      "outputs": [
        {
          "name": "stdout",
          "output_type": "stream",
          "text": [
            "0\n"
          ]
        }
      ],
      "source": [
        "print(y_test[0])  # Mostra o rótulo da primeira avaliação do conjunto de teste\n"
      ]
    },
    {
      "cell_type": "code",
      "execution_count": null,
      "metadata": {
        "colab": {
          "background_save": true
        },
        "id": "KohA7MjkNZzU"
      },
      "outputs": [],
      "source": []
    }
  ],
  "metadata": {
    "accelerator": "GPU",
    "colab": {
      "gpuType": "T4",
      "provenance": [],
      "include_colab_link": true
    },
    "kernelspec": {
      "display_name": "Python 3",
      "name": "python3"
    },
    "language_info": {
      "name": "python"
    }
  },
  "nbformat": 4,
  "nbformat_minor": 0
}
